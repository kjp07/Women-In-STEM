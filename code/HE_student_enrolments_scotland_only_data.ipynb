{
 "cells": [
  {
   "cell_type": "markdown",
   "metadata": {},
   "source": [
    "## HE Student Enrolment Datasets\n",
    "\n",
    "Data source: <a href=\"https://www.hesa.ac.uk/data-and-analysis/students/table-1#note\">HESA</a>\n",
    "\n",
    "Aim:   \n",
    "1. Remove total rows\n",
    "2. Filter \"Country of HE provider\" and \"Region of HE provider\" to Scotland"
   ]
  },
  {
   "cell_type": "code",
   "execution_count": 1,
   "metadata": {},
   "outputs": [],
   "source": [
    "# Import pandas\n",
    "import pandas as pd"
   ]
  },
  {
   "cell_type": "code",
   "execution_count": 2,
   "metadata": {},
   "outputs": [],
   "source": [
    "# Import datasets\n",
    "year_2014 = pd.read_csv(\"table-1-(2014-15).csv\", header=14)\n",
    "year_2015 = pd.read_csv(\"table-1-(2015-16).csv\", header=14)\n",
    "year_2016 = pd.read_csv(\"table-1-(2016-17).csv\", header=14)\n",
    "year_2017 = pd.read_csv(\"table-1-(2017-18).csv\", header=14)\n",
    "year_2018 = pd.read_csv(\"table-1-(2018-19).csv\", header=14)\n",
    "year_2019 = pd.read_csv(\"table-1-(2019-20).csv\", header=14)"
   ]
  },
  {
   "cell_type": "code",
   "execution_count": 3,
   "metadata": {},
   "outputs": [],
   "source": [
    "# Drop total rows\n",
    "year_2014 = year_2014[year_2014[\"HE provider\"] != \"Total\"].copy()\n",
    "year_2015 = year_2015[year_2015[\"HE provider\"] != \"Total\"].copy()\n",
    "year_2016 = year_2016[year_2016[\"HE provider\"] != \"Total\"].copy()\n",
    "year_2017 = year_2017[year_2017[\"HE provider\"] != \"Total\"].copy()\n",
    "year_2018 = year_2018[year_2018[\"HE provider\"] != \"Total\"].copy()\n",
    "year_2019 = year_2019[year_2019[\"HE provider\"] != \"Total\"].copy()"
   ]
  },
  {
   "cell_type": "code",
   "execution_count": 4,
   "metadata": {},
   "outputs": [],
   "source": [
    "# Get Scotland data: Filter by Country of HE Provider\n",
    "year_2014_scotland = year_2014[year_2014[\"Country of HE provider\"] == \"Scotland\"].copy()\n",
    "year_2015_scotland = year_2015[year_2015[\"Country of HE provider\"] == \"Scotland\"].copy()\n",
    "year_2016_scotland = year_2016[year_2016[\"Country of HE provider\"] == \"Scotland\"].copy()\n",
    "year_2017_scotland = year_2017[year_2017[\"Country of HE provider\"] == \"Scotland\"].copy()\n",
    "year_2018_scotland = year_2018[year_2018[\"Country of HE provider\"] == \"Scotland\"].copy()\n",
    "year_2019_scotland = year_2019[year_2019[\"Country of HE provider\"] == \"Scotland\"].copy()\n",
    "\n",
    "# Get Scotland data: Filter by Region of HE Provider\n",
    "year_2014_scotland = year_2014_scotland[year_2014_scotland[\"Region of HE provider\"] == \"Scotland\"].copy()\n",
    "year_2015_scotland = year_2015_scotland[year_2015_scotland[\"Region of HE provider\"] == \"Scotland\"].copy()\n",
    "year_2016_scotland = year_2016_scotland[year_2016_scotland[\"Region of HE provider\"] == \"Scotland\"].copy()\n",
    "year_2017_scotland = year_2017_scotland[year_2017_scotland[\"Region of HE provider\"] == \"Scotland\"].copy()\n",
    "year_2018_scotland = year_2018_scotland[year_2018_scotland[\"Region of HE provider\"] == \"Scotland\"].copy()\n",
    "year_2019_scotland = year_2019_scotland[year_2019_scotland[\"Region of HE provider\"] == \"Scotland\"].copy()\n"
   ]
  },
  {
   "cell_type": "code",
   "execution_count": 5,
   "metadata": {
    "scrolled": false
   },
   "outputs": [],
   "source": [
    "# Export to excel\n",
    "year_2014_scotland.to_csv(\"HE_student_enrollments_2014-2015.csv\")\n",
    "year_2015_scotland.to_csv(\"HE_student_enrollments_2015-2016.csv\")\n",
    "year_2016_scotland.to_csv(\"HE_student_enrollments_2016-2017.csv\")\n",
    "year_2017_scotland.to_csv(\"HE_student_enrollments_2017-2018.csv\")\n",
    "year_2018_scotland.to_csv(\"HE_student_enrollments_2018-2019.csv\")\n",
    "year_2019_scotland.to_csv(\"HE_student_enrollments_2019-2020.csv\")"
   ]
  }
 ],
 "metadata": {
  "kernelspec": {
   "display_name": "Python 3",
   "language": "python",
   "name": "python3"
  },
  "language_info": {
   "codemirror_mode": {
    "name": "ipython",
    "version": 3
   },
   "file_extension": ".py",
   "mimetype": "text/x-python",
   "name": "python",
   "nbconvert_exporter": "python",
   "pygments_lexer": "ipython3",
   "version": "3.8.5"
  }
 },
 "nbformat": 4,
 "nbformat_minor": 4
}
